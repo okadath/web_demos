{
 "cells": [
  {
   "cell_type": "code",
   "execution_count": 1,
   "metadata": {},
   "outputs": [],
   "source": [
    "%matplotlib inline\n",
    "import pandas as pd\n",
    "import numpy as np\n",
    "import matplotlib.pyplot as plt\n",
    "import pickle\n",
    "import warnings\n",
    "warnings.filterwarnings('ignore')\n",
    "\n",
    "from sklearn.model_selection import train_test_split\n",
    "from sklearn.metrics import mean_squared_error, r2_score\n",
    "from math import sqrt\n",
    " \n",
    "from io import BytesIO\n",
    "from urllib.request import urlopen\n",
    "from zipfile import ZipFile\n"
   ]
  },
  {
   "cell_type": "code",
   "execution_count": 3,
   "metadata": {},
   "outputs": [
    {
     "data": {
      "text/plain": [
       "count    17379.000000\n",
       "mean       189.463088\n",
       "std        181.387599\n",
       "min          1.000000\n",
       "25%         40.000000\n",
       "50%        142.000000\n",
       "75%        281.000000\n",
       "max        977.000000\n",
       "Name: cnt, dtype: float64"
      ]
     },
     "execution_count": 3,
     "metadata": {},
     "output_type": "execute_result"
    }
   ],
   "source": [
    "bikes_hour_df_raw = pd.read_csv('hour.csv')\n",
    "bikes_day_df_raw = pd.read_csv('/tmp/Bike-Sharing-Dataset/day.csv')\n",
    "\n",
    "#usando tmp da normalizados\n",
    "bikes_hour_df_raw['cnt'].describe()\n"
   ]
  },
  {
   "cell_type": "code",
   "execution_count": 4,
   "metadata": {},
   "outputs": [
    {
     "data": {
      "text/html": [
       "<div>\n",
       "<style scoped>\n",
       "    .dataframe tbody tr th:only-of-type {\n",
       "        vertical-align: middle;\n",
       "    }\n",
       "\n",
       "    .dataframe tbody tr th {\n",
       "        vertical-align: top;\n",
       "    }\n",
       "\n",
       "    .dataframe thead th {\n",
       "        text-align: right;\n",
       "    }\n",
       "</style>\n",
       "<table border=\"1\" class=\"dataframe\">\n",
       "  <thead>\n",
       "    <tr style=\"text-align: right;\">\n",
       "      <th></th>\n",
       "      <th>instant</th>\n",
       "      <th>dteday</th>\n",
       "      <th>season</th>\n",
       "      <th>yr</th>\n",
       "      <th>mnth</th>\n",
       "      <th>hr</th>\n",
       "      <th>holiday</th>\n",
       "      <th>weekday</th>\n",
       "      <th>workingday</th>\n",
       "      <th>weathersit</th>\n",
       "      <th>temp</th>\n",
       "      <th>atemp</th>\n",
       "      <th>hum</th>\n",
       "      <th>windspeed</th>\n",
       "      <th>casual</th>\n",
       "      <th>registered</th>\n",
       "      <th>cnt</th>\n",
       "    </tr>\n",
       "  </thead>\n",
       "  <tbody>\n",
       "    <tr>\n",
       "      <th>0</th>\n",
       "      <td>1</td>\n",
       "      <td>2011-01-01</td>\n",
       "      <td>1</td>\n",
       "      <td>0</td>\n",
       "      <td>1</td>\n",
       "      <td>0</td>\n",
       "      <td>0</td>\n",
       "      <td>6</td>\n",
       "      <td>0</td>\n",
       "      <td>1</td>\n",
       "      <td>0.24</td>\n",
       "      <td>0.2879</td>\n",
       "      <td>0.81</td>\n",
       "      <td>0.0</td>\n",
       "      <td>3</td>\n",
       "      <td>13</td>\n",
       "      <td>16</td>\n",
       "    </tr>\n",
       "    <tr>\n",
       "      <th>1</th>\n",
       "      <td>2</td>\n",
       "      <td>2011-01-01</td>\n",
       "      <td>1</td>\n",
       "      <td>0</td>\n",
       "      <td>1</td>\n",
       "      <td>1</td>\n",
       "      <td>0</td>\n",
       "      <td>6</td>\n",
       "      <td>0</td>\n",
       "      <td>1</td>\n",
       "      <td>0.22</td>\n",
       "      <td>0.2727</td>\n",
       "      <td>0.80</td>\n",
       "      <td>0.0</td>\n",
       "      <td>8</td>\n",
       "      <td>32</td>\n",
       "      <td>40</td>\n",
       "    </tr>\n",
       "    <tr>\n",
       "      <th>2</th>\n",
       "      <td>3</td>\n",
       "      <td>2011-01-01</td>\n",
       "      <td>1</td>\n",
       "      <td>0</td>\n",
       "      <td>1</td>\n",
       "      <td>2</td>\n",
       "      <td>0</td>\n",
       "      <td>6</td>\n",
       "      <td>0</td>\n",
       "      <td>1</td>\n",
       "      <td>0.22</td>\n",
       "      <td>0.2727</td>\n",
       "      <td>0.80</td>\n",
       "      <td>0.0</td>\n",
       "      <td>5</td>\n",
       "      <td>27</td>\n",
       "      <td>32</td>\n",
       "    </tr>\n",
       "    <tr>\n",
       "      <th>3</th>\n",
       "      <td>4</td>\n",
       "      <td>2011-01-01</td>\n",
       "      <td>1</td>\n",
       "      <td>0</td>\n",
       "      <td>1</td>\n",
       "      <td>3</td>\n",
       "      <td>0</td>\n",
       "      <td>6</td>\n",
       "      <td>0</td>\n",
       "      <td>1</td>\n",
       "      <td>0.24</td>\n",
       "      <td>0.2879</td>\n",
       "      <td>0.75</td>\n",
       "      <td>0.0</td>\n",
       "      <td>3</td>\n",
       "      <td>10</td>\n",
       "      <td>13</td>\n",
       "    </tr>\n",
       "    <tr>\n",
       "      <th>4</th>\n",
       "      <td>5</td>\n",
       "      <td>2011-01-01</td>\n",
       "      <td>1</td>\n",
       "      <td>0</td>\n",
       "      <td>1</td>\n",
       "      <td>4</td>\n",
       "      <td>0</td>\n",
       "      <td>6</td>\n",
       "      <td>0</td>\n",
       "      <td>1</td>\n",
       "      <td>0.24</td>\n",
       "      <td>0.2879</td>\n",
       "      <td>0.75</td>\n",
       "      <td>0.0</td>\n",
       "      <td>0</td>\n",
       "      <td>1</td>\n",
       "      <td>1</td>\n",
       "    </tr>\n",
       "  </tbody>\n",
       "</table>\n",
       "</div>"
      ],
      "text/plain": [
       "   instant      dteday  season  yr  mnth  hr  holiday  weekday  workingday  \\\n",
       "0        1  2011-01-01       1   0     1   0        0        6           0   \n",
       "1        2  2011-01-01       1   0     1   1        0        6           0   \n",
       "2        3  2011-01-01       1   0     1   2        0        6           0   \n",
       "3        4  2011-01-01       1   0     1   3        0        6           0   \n",
       "4        5  2011-01-01       1   0     1   4        0        6           0   \n",
       "\n",
       "   weathersit  temp   atemp   hum  windspeed  casual  registered  cnt  \n",
       "0           1  0.24  0.2879  0.81        0.0       3          13   16  \n",
       "1           1  0.22  0.2727  0.80        0.0       8          32   40  \n",
       "2           1  0.22  0.2727  0.80        0.0       5          27   32  \n",
       "3           1  0.24  0.2879  0.75        0.0       3          10   13  \n",
       "4           1  0.24  0.2879  0.75        0.0       0           1    1  "
      ]
     },
     "execution_count": 4,
     "metadata": {},
     "output_type": "execute_result"
    }
   ],
   "source": [
    "bikes_hour_df_raw.head()\n"
   ]
  },
  {
   "cell_type": "code",
   "execution_count": 7,
   "metadata": {},
   "outputs": [
    {
     "data": {
      "text/plain": [
       "Text(0.5,0.98,'Recorded Bike Rentals Counts')"
      ]
     },
     "execution_count": 7,
     "metadata": {},
     "output_type": "execute_result"
    },
    {
     "data": {
      "image/png": "[encoded data removed]",
      "text/plain": [
       "<matplotlib.figure.Figure at 0x7f0c66ca20f0>"
      ]
     },
     "metadata": {},
     "output_type": "display_data"
    }
   ],
   "source": [
    "\n",
    "bikes_hour_df = bikes_hour_df_raw.drop(['casual', 'registered'], axis=1) \n",
    "\n",
    "fig,ax = plt.subplots(1)\n",
    "ax.plot(sorted(bikes_hour_df['cnt']), color='blue', marker='.')\n",
    "ax.set_ylabel(\"Sorted Rental Counts\", fontsize=12)\n",
    "fig.suptitle('Recorded Bike Rentals Counts', fontsize=16)\n"
   ]
  },
  {
   "cell_type": "code",
   "execution_count": 6,
   "metadata": {},
   "outputs": [
    {
     "data": {
      "image/png": "[encoded data removed]",
      "text/plain": [
       "<matplotlib.figure.Figure at 0x7f0c66e0e5f8>"
      ]
     },
     "metadata": {},
     "output_type": "display_data"
    },
    {
     "data": {
      "image/png": "[encoded data removed]",
      "text/plain": [
       "<matplotlib.figure.Figure at 0x7f0c66e0e400>"
      ]
     },
     "metadata": {},
     "output_type": "display_data"
    },
    {
     "data": {
      "image/png": "[encoded data removed]",
      "text/plain": [
       "<matplotlib.figure.Figure at 0x7f0c66db1a58>"
      ]
     },
     "metadata": {},
     "output_type": "display_data"
    },
    {
     "data": {
      "image/png": "[encoded data removed]",
      "text/plain": [
       "<matplotlib.figure.Figure at 0x7f0c66db13c8>"
      ]
     },
     "metadata": {},
     "output_type": "display_data"
    }
   ],
   "source": [
    "counter_ = 0\n",
    "for tp in bikes_hour_df.dtypes:\n",
    "    if (tp == \"float64\"):\n",
    "        bikes_hour_df = bikes_hour_df.sort_values(bikes_hour_df.dtypes.index[counter_])\n",
    "        feature = bikes_hour_df.dtypes.index[counter_]\n",
    "        plt.scatter(bikes_hour_df[feature], bikes_hour_df['cnt'])\n",
    "        plt.suptitle(\"Numerical Feature: Cnt VS \" + feature)\n",
    "        plt.xlabel(feature)\n",
    "        plt.ylabel(\"Count of All Bikes Rented\")\n",
    "        plt.show()\n",
    "    counter_ += 1"
   ]
  },
  {
   "cell_type": "code",
   "execution_count": 8,
   "metadata": {},
   "outputs": [
    {
     "data": {
      "image/png": "[encoded data removed]",
      "text/plain": [
       "<matplotlib.figure.Figure at 0x7f0c66ca2080>"
      ]
     },
     "metadata": {},
     "output_type": "display_data"
    }
   ],
   "source": [
    "f,  (ax1, ax2)  =  plt.subplots(nrows=1, ncols=2, figsize=(13, 6))\n",
    "\n",
    "ax1 = bikes_hour_df[['season','cnt']].groupby(['season']).sum().reset_index().plot(kind='bar',\n",
    "            legend = False, title =\"Counts of Bike Rentals by season\", stacked=True, fontsize=12, ax=ax1)\n",
    "\n",
    "ax1.set_xlabel(\"season\", fontsize=12)\n",
    "ax1.set_ylabel(\"Count\", fontsize=12)\n",
    "ax1.set_xticklabels(['spring','sumer','fall','winter'])\n",
    " \n",
    "ax2 = bikes_hour_df[['weathersit','cnt']].groupby(['weathersit']).sum().reset_index().plot(kind='bar',  \n",
    "      legend = False, stacked=True, title =\"Counts of Bike Rentals by weathersit\", fontsize=12, ax=ax2)\n",
    "\n",
    "ax2.set_xlabel(\"weathersit\", fontsize=12)\n",
    "ax2.set_ylabel(\"Count\", fontsize=12)\n",
    "ax2.set_xticklabels(['1: Clear','2: Mist','3: Light Snow','4: Heavy Rain'])\n",
    "\n",
    "f.tight_layout()"
   ]
  },
  {
   "cell_type": "code",
   "execution_count": 11,
   "metadata": {},
   "outputs": [
    {
     "data": {
      "image/png": "[encoded data removed]",
      "text/plain": [
       "<matplotlib.figure.Figure at 0x7f0c64b614e0>"
      ]
     },
     "metadata": {},
     "output_type": "display_data"
    }
   ],
   "source": [
    "bikes_hour_df['cnt'].hist(bins=30, range=(0,1000)).plot()\n",
    "plt.suptitle('cnt')\n",
    "plt.show()"
   ]
  },
  {
   "cell_type": "code",
   "execution_count": 12,
   "metadata": {},
   "outputs": [
    {
     "data": {
      "image/png": "[encoded data removed]",
      "text/plain": [
       "<matplotlib.figure.Figure at 0x7f0c9d1aa080>"
      ]
     },
     "metadata": {},
     "output_type": "display_data"
    }
   ],
   "source": [
    "ax = bikes_hour_df[['hr','cnt']].groupby(['hr']).sum().reset_index().plot(kind='bar', figsize=(8, 6),\n",
    "         legend = False, title =\"Total Bike Rentals by Hour\", color='orange', fontsize=12)\n",
    "ax.set_xlabel(\"Hour\", fontsize=12)\n",
    "ax.set_ylabel(\"Count\", fontsize=12)\n",
    "plt.show()"
   ]
  },
  {
   "cell_type": "markdown",
   "metadata": {},
   "source": [
    "una vez analizados los datos procedemos a entrenar los modelos, para tratar de obtener una buena precision usaremos GMB"
   ]
  },
  {
   "cell_type": "code",
   "execution_count": 14,
   "metadata": {},
   "outputs": [
    {
     "name": "stdout",
     "output_type": "stream",
     "text": [
      "Root Mean squared error: 139.14\n"
     ]
    }
   ],
   "source": [
    "# simple approach - make a copy for editing without affecting original\n",
    "bike_df_model_ready = bikes_hour_df.copy()\n",
    "\n",
    "outcome = 'cnt'\n",
    "# create a feature list for each modeling - experiment by adding features to the exclusion list\n",
    "features = [feat for feat in list(bike_df_model_ready) if feat not in [outcome, 'instant', 'dteday']]  \n",
    "\n",
    "# split data into train and test portions and model\n",
    "X_train, X_test, y_train, y_test = train_test_split(bike_df_model_ready[features], \n",
    "               bike_df_model_ready[['cnt']],test_size=0.3, random_state=42)\n",
    "\n",
    "from sklearn import linear_model\n",
    "model_lr = linear_model.LinearRegression()\n",
    " \n",
    "# train the model on training set\n",
    "model_lr.fit(X_train, y_train)\n",
    "\n",
    "# make predictions using the testing set\n",
    "predictions = model_lr.predict(X_test)\n",
    "\n",
    "# root mean squared error\n",
    "print(\"Root Mean squared error: %.2f\" % sqrt(mean_squared_error(y_test, predictions)))"
   ]
  },
  {
   "cell_type": "code",
   "execution_count": 18,
   "metadata": {},
   "outputs": [
    {
     "name": "stdout",
     "output_type": "stream",
     "text": [
      "Root Mean squared error with PolynomialFeatures set to 2 degrees: 120.44\n"
     ]
    }
   ],
   "source": [
    "bike_df_model_ready = bikes_hour_df.copy()\n",
    "\n",
    "outcome = 'cnt'\n",
    "# create a feature list for eash modeling - experiment by adding features to the exclusion list\n",
    "features = [feat for feat in list(bike_df_model_ready) if feat not in [outcome, 'instant', 'dteday']]  \n",
    "\n",
    "# split data into train and test portions and model\n",
    "X_train, X_test, y_train, y_test = train_test_split(bike_df_model_ready[features], \n",
    "                                                 bike_df_model_ready[['cnt']], \n",
    "                                                 test_size=0.3, random_state=42)\n",
    "from sklearn.preprocessing import PolynomialFeatures\n",
    "poly = PolynomialFeatures(2)\n",
    "X_train = poly.fit_transform(X_train)\n",
    "X_test = poly.fit_transform(X_test)\n",
    "\n",
    "from sklearn import linear_model\n",
    "model_lr = linear_model.LinearRegression()\n",
    " \n",
    "# train the model on training set\n",
    "model_lr.fit(X_train, y_train)\n",
    "\n",
    "# make predictions using the testing set\n",
    "predictions = model_lr.predict(X_test)\n",
    " \n",
    "# root mean squared error\n",
    "print(\"Root Mean squared error with PolynomialFeatures set to 2 degrees: %.2f\" \n",
    "      % sqrt(mean_squared_error(y_test, predictions)))\n"
   ]
  },
  {
   "cell_type": "code",
   "execution_count": 25,
   "metadata": {},
   "outputs": [
    {
     "name": "stdout",
     "output_type": "stream",
     "text": [
      "Root Mean squared error with PolynomialFeatures set to 3 degrees: 108.93\n"
     ]
    }
   ],
   "source": [
    "bike_df_model_ready = bikes_hour_df.copy()\n",
    "\n",
    "outcome = 'cnt'\n",
    "# create a feature list for eash modeling - experiment by adding features to the exclusion list\n",
    "features = [feat for feat in list(bike_df_model_ready) if feat not in [outcome, 'instant', 'dteday']]  \n",
    "\n",
    "# split data into train and test portions and model\n",
    "X_train, X_test, y_train, y_test = train_test_split(bike_df_model_ready[features], \n",
    "                                                 bike_df_model_ready[['cnt']], \n",
    "                                                 test_size=0.3, random_state=42)\n",
    "from sklearn.preprocessing import PolynomialFeatures\n",
    "poly = PolynomialFeatures(3)\n",
    "X_train = poly.fit_transform(X_train)\n",
    "X_test = poly.fit_transform(X_test)\n",
    " \n",
    "from sklearn import linear_model\n",
    "model_lr = linear_model.LinearRegression()\n",
    " \n",
    "# train the model on training set\n",
    "model_lr.fit(X_train, y_train)\n",
    "\n",
    "# make predictions using the testing set\n",
    "predictions = model_lr.predict(X_test)\n",
    " \n",
    "# root mean squared error\n",
    "print(\"Root Mean squared error with PolynomialFeatures set to 3 degrees: %.2f\" \n",
    "      % sqrt(mean_squared_error(y_test, predictions)))"
   ]
  },
  {
   "cell_type": "code",
   "execution_count": 26,
   "metadata": {},
   "outputs": [
    {
     "name": "stdout",
     "output_type": "stream",
     "text": [
      "Root Mean squared error with PolynomialFeatures set to 4 degrees: 898259.34\n"
     ]
    }
   ],
   "source": [
    "# make a copy for editing without affecting original\n",
    "bike_df_model_ready = bikes_hour_df.copy()\n",
    "\n",
    "outcome = 'cnt'\n",
    "# create a feature list for eash modeling - experiment by adding features to the exclusion list\n",
    "features = [feat for feat in list(bike_df_model_ready) if feat not in [outcome, 'instant', 'dteday']]  \n",
    "\n",
    "# split data into train and test portions and model\n",
    "X_train, X_test, y_train, y_test = train_test_split(bike_df_model_ready[features], \n",
    "                                                 bike_df_model_ready[['cnt']], \n",
    "                                                 test_size=0.3, random_state=42)\n",
    "\n",
    "from sklearn.preprocessing import PolynomialFeatures\n",
    "poly = PolynomialFeatures(4)\n",
    "X_train = poly.fit_transform(X_train)\n",
    "X_test = poly.fit_transform(X_test)\n",
    " \n",
    "from sklearn import linear_model\n",
    "model_lr = linear_model.LinearRegression()\n",
    " \n",
    "# train the model on training set\n",
    "model_lr.fit(X_train, y_train)\n",
    "\n",
    "# make predictions using the testing set\n",
    "predictions = model_lr.predict(X_test)\n",
    " \n",
    "# root mean squared error\n",
    "print(\"Root Mean squared error with PolynomialFeatures set to 4 degrees: %.2f\" \n",
    "      % sqrt(mean_squared_error(y_test, predictions)))"
   ]
  },
  {
   "cell_type": "code",
   "execution_count": 27,
   "metadata": {},
   "outputs": [
    {
     "name": "stdout",
     "output_type": "stream",
     "text": [
      "Coefficients: \n",
      " [[  8.15248087e+01  -3.05053709e-01   7.31700288e+00  -2.12212108e+01\n",
      "    1.25047676e+01   2.56576596e+02   1.06754237e+02  -2.00225607e+02\n",
      "    3.93454538e+01   2.54085994e+01   2.24746614e+00   7.16672281e+01\n",
      "   -1.13686838e-13  -4.49090388e+00   6.22106355e-01  -2.38810162e+00\n",
      "   -3.93756806e+00   1.47802402e+00   1.23008686e+01   1.42108547e-14\n",
      "    9.33424984e+00  -2.40957826e+01   3.07030469e+01   0.00000000e+00]]\n",
      "Root Mean squared error: 139.40\n"
     ]
    }
   ],
   "source": [
    "def prepare_data_for_model(raw_dataframe, \n",
    "                           target_columns, \n",
    "                           drop_first = False, \n",
    "                           make_na_col = True):\n",
    "    \n",
    "    # dummy all categorical fields \n",
    "    dataframe_dummy = pd.get_dummies(raw_dataframe, columns=target_columns, \n",
    "                                     drop_first=drop_first, \n",
    "                                     dummy_na=make_na_col)\n",
    "    return (dataframe_dummy)\n",
    "\n",
    "# make a copy for editing without affecting original\n",
    "bike_df_model_ready = bikes_hour_df.copy()\n",
    "bike_df_model_ready = bike_df_model_ready.sort_values('instant')\n",
    "\n",
    "# dummify categorical columns\n",
    "bike_df_model_ready = prepare_data_for_model(bike_df_model_ready, \n",
    "                                            target_columns = ['season', \n",
    "                                                              'weekday', \n",
    "                                                              'weathersit'],\n",
    "                                            drop_first = True)\n",
    "\n",
    "# remove the nan colums in dataframe as most are outcome variable and we can't use them\n",
    "bike_df_model_ready = bike_df_model_ready.dropna() \n",
    "\n",
    "\n",
    "outcome = 'cnt'\n",
    "features = [feat for feat in list(bike_df_model_ready) if feat not in [outcome, 'instant',  'dteday']]  \n",
    "\n",
    " \n",
    "X_train, X_test, y_train, y_test = train_test_split(bike_df_model_ready[features], \n",
    "                                                 bike_df_model_ready[['cnt']], \n",
    "                                                 test_size=0.5, \n",
    "                                                 random_state=42)\n",
    "from sklearn import linear_model\n",
    "model_lr = linear_model.LinearRegression()\n",
    " \n",
    "# train the model on training set\n",
    "model_lr.fit(X_train, y_train)\n",
    "\n",
    "# make predictions using the testing set\n",
    "predictions = model_lr.predict(X_test)\n",
    " \n",
    "# print coefficients as this is what our web application will use in the end\n",
    "print('Coefficients: \\n', model_lr.coef_)\n",
    "\n",
    "# root mean squared error\n",
    "print(\"Root Mean squared error: %.2f\" % sqrt(mean_squared_error(y_test, predictions)))\n",
    " "
   ]
  },
  {
   "cell_type": "code",
   "execution_count": 28,
   "metadata": {},
   "outputs": [
    {
     "name": "stdout",
     "output_type": "stream",
     "text": [
      "Root Mean squared error: 68.15\n"
     ]
    }
   ],
   "source": [
    "# simple approach - make a copy for editing without affecting original\n",
    "bike_df_model_ready = bikes_hour_df.copy()\n",
    "bike_df_model_ready = bike_df_model_ready.sort_values('instant')\n",
    "\n",
    "# dummify categorical columns\n",
    "bike_df_model_ready = prepare_data_for_model(bike_df_model_ready, \n",
    "                                             target_columns = ['season', 'weekday', 'weathersit'])\n",
    "list(bike_df_model_ready.head(1).values)\n",
    "\n",
    "# remove the nan colums in dataframe as most are outcome variable and we can't use them\n",
    "bike_df_model_ready = bike_df_model_ready.dropna() \n",
    "\n",
    "\n",
    "outcome = 'cnt'\n",
    "features = [feat for feat in list(bike_df_model_ready) if feat not in [outcome, 'instant', 'dteday']]  \n",
    "\n",
    " \n",
    "X_train, X_test, y_train, y_test = train_test_split(bike_df_model_ready[features], \n",
    "                                                 bike_df_model_ready[['cnt']], \n",
    "                                                 test_size=0.5, \n",
    "                                                 random_state=42)\n",
    " \n",
    "from sklearn.ensemble import GradientBoostingRegressor\n",
    "model_gbr = GradientBoostingRegressor()\n",
    "model_gbr.fit(X_train, np.ravel(y_train))\n",
    "predictions = model_gbr.predict(X_test)\n",
    "\n",
    "# root mean squared error\n",
    "print(\"Root Mean squared error: %.2f\" % sqrt(mean_squared_error(y_test, predictions)))\n",
    " "
   ]
  },
  {
   "cell_type": "code",
   "execution_count": 30,
   "metadata": {},
   "outputs": [
    {
     "data": {
      "text/html": [
       "<div>\n",
       "<style scoped>\n",
       "    .dataframe tbody tr th:only-of-type {\n",
       "        vertical-align: middle;\n",
       "    }\n",
       "\n",
       "    .dataframe tbody tr th {\n",
       "        vertical-align: top;\n",
       "    }\n",
       "\n",
       "    .dataframe thead th {\n",
       "        text-align: right;\n",
       "    }\n",
       "</style>\n",
       "<table border=\"1\" class=\"dataframe\">\n",
       "  <thead>\n",
       "    <tr style=\"text-align: right;\">\n",
       "      <th></th>\n",
       "      <th>dteday</th>\n",
       "      <th>hr</th>\n",
       "      <th>cnt</th>\n",
       "      <th>sum_hr_shift_1</th>\n",
       "      <th>sum_hr_shift_2</th>\n",
       "    </tr>\n",
       "  </thead>\n",
       "  <tbody>\n",
       "    <tr>\n",
       "      <th>0</th>\n",
       "      <td>2011-01-01</td>\n",
       "      <td>0</td>\n",
       "      <td>16</td>\n",
       "      <td>NaN</td>\n",
       "      <td>NaN</td>\n",
       "    </tr>\n",
       "    <tr>\n",
       "      <th>1</th>\n",
       "      <td>2011-01-01</td>\n",
       "      <td>1</td>\n",
       "      <td>40</td>\n",
       "      <td>16.0</td>\n",
       "      <td>NaN</td>\n",
       "    </tr>\n",
       "    <tr>\n",
       "      <th>2</th>\n",
       "      <td>2011-01-01</td>\n",
       "      <td>2</td>\n",
       "      <td>32</td>\n",
       "      <td>40.0</td>\n",
       "      <td>16.0</td>\n",
       "    </tr>\n",
       "    <tr>\n",
       "      <th>3</th>\n",
       "      <td>2011-01-01</td>\n",
       "      <td>3</td>\n",
       "      <td>13</td>\n",
       "      <td>32.0</td>\n",
       "      <td>40.0</td>\n",
       "    </tr>\n",
       "    <tr>\n",
       "      <th>4</th>\n",
       "      <td>2011-01-01</td>\n",
       "      <td>4</td>\n",
       "      <td>1</td>\n",
       "      <td>13.0</td>\n",
       "      <td>32.0</td>\n",
       "    </tr>\n",
       "  </tbody>\n",
       "</table>\n",
       "</div>"
      ],
      "text/plain": [
       "       dteday  hr  cnt  sum_hr_shift_1  sum_hr_shift_2\n",
       "0  2011-01-01   0   16             NaN             NaN\n",
       "1  2011-01-01   1   40            16.0             NaN\n",
       "2  2011-01-01   2   32            40.0            16.0\n",
       "3  2011-01-01   3   13            32.0            40.0\n",
       "4  2011-01-01   4    1            13.0            32.0"
      ]
     },
     "execution_count": 30,
     "metadata": {},
     "output_type": "execute_result"
    }
   ],
   "source": [
    "# prior hours\n",
    "bikes_hour_df_shift = bikes_hour_df[['dteday','hr','cnt']].groupby(['dteday','hr']).sum().reset_index()\n",
    "bikes_hour_df_shift.sort_values(['dteday','hr'])\n",
    "\n",
    "# shift the count of the last two hours forward so the new count can take in consideratio how the last two hours went \n",
    "bikes_hour_df_shift['sum_hr_shift_1'] = bikes_hour_df_shift.cnt.shift(+1)\n",
    "bikes_hour_df_shift['sum_hr_shift_2'] = bikes_hour_df_shift.cnt.shift(+2)\n",
    "\n",
    "bike_df_model_ready =  pd.merge(bikes_hour_df, bikes_hour_df_shift[['dteday', 'hr', 'sum_hr_shift_1', 'sum_hr_shift_2']], how='inner', on = ['dteday', 'hr'])\n",
    "\n",
    "# drop NAs caused by our shifting fields around\n",
    "bike_df_model_ready = bike_df_model_ready.dropna()\n",
    "bikes_hour_df_shift.head()"
   ]
  },
  {
   "cell_type": "code",
   "execution_count": 31,
   "metadata": {},
   "outputs": [
    {
     "name": "stdout",
     "output_type": "stream",
     "text": [
      "Root Mean squared error: 41.98\n"
     ]
    }
   ],
   "source": [
    "outcome = 'cnt'\n",
    "# create a feature list for each modeling - experiment by adding features to the exclusion list\n",
    "features = [feat for feat in list(bike_df_model_ready) if feat not in [outcome, 'instant', 'dteday','casual', 'registered']]  \n",
    "\n",
    "# split data into train and test portions and model\n",
    "X_train, X_test, y_train, y_test = train_test_split(bike_df_model_ready[features], \n",
    "                                                 bike_df_model_ready[['cnt']], \n",
    "                                                 test_size=0.3, random_state=42)\n",
    "\n",
    "from sklearn.ensemble import GradientBoostingRegressor\n",
    "model_gbr = GradientBoostingRegressor()\n",
    "model_gbr.fit(X_train, np.ravel(y_train))\n",
    "predictions = model_gbr.predict(X_test)\n",
    "\n",
    "# root mean squared error\n",
    "print(\"Root Mean squared error: %.2f\" % sqrt(mean_squared_error(y_test, predictions)))"
   ]
  },
  {
   "cell_type": "code",
   "execution_count": 32,
   "metadata": {},
   "outputs": [
    {
     "data": {
      "text/plain": [
       "189.47117044539073"
      ]
     },
     "execution_count": 32,
     "metadata": {},
     "output_type": "execute_result"
    }
   ],
   "source": [
    "np.mean(bikes_hour_df_shift['sum_hr_shift_1'])"
   ]
  },
  {
   "cell_type": "code",
   "execution_count": 33,
   "metadata": {},
   "outputs": [
    {
     "name": "stdout",
     "output_type": "stream",
     "text": [
      "R^2 for hr is 0.159431\n",
      "R^2 for season is 0.025891\n",
      "R^2 for holiday is -0.001242\n",
      "R^2 for temp is 0.168313\n"
     ]
    }
   ],
   "source": [
    "# loop through each feature and calculate the R^2 score\n",
    "features = ['hr', 'season', 'holiday', 'temp']\n",
    "from sklearn import linear_model\n",
    "from sklearn.metrics import r2_score\n",
    "\n",
    "# split data into train and test portions and model\n",
    "X_train, X_test, y_train, y_test = train_test_split(bike_df_model_ready[features], \n",
    "        bike_df_model_ready[['cnt']],test_size=0.3, random_state=42)\n",
    "    \n",
    "for feat in features:\n",
    "    model_lr = linear_model.LinearRegression()\n",
    "    model_lr.fit(X_train[[feat]], y_train)\n",
    "    predictions = model_lr.predict(X_test[[feat]])\n",
    "    print('R^2 for %s is %f' % (feat, r2_score(y_test, predictions)))\n",
    "    "
   ]
  },
  {
   "cell_type": "code",
   "execution_count": 34,
   "metadata": {},
   "outputs": [
    {
     "name": "stdout",
     "output_type": "stream",
     "text": [
      "R^2 for hr is 0.160129\n",
      "R^2 for holiday is -0.000566\n",
      "R^2 for temp is 0.166963\n",
      "R^2 for season_1 is 0.058428\n",
      "R^2 for season_2 is 0.004411\n",
      "R^2 for season_3 is 0.021628\n",
      "R^2 for season_4 is -0.001285\n"
     ]
    }
   ],
   "source": [
    "# simple approach - make a copy for editing without affecting original\n",
    "bike_df_model_ready = bikes_hour_df[['hr', 'season', 'holiday', 'temp', 'cnt']].copy()\n",
    "\n",
    "outcome = 'cnt'\n",
    "\n",
    "# dummify categorical columns\n",
    "bike_df_model_ready = prepare_data_for_model(bike_df_model_ready,  drop_first = False, \n",
    "                                             make_na_col = False, target_columns = ['season'])\n",
    "\n",
    "features = [feat for feat in bike_df_model_ready if feat not in ['cnt']]  \n",
    "\n",
    "# split data into train and test portions and model\n",
    "X_train, X_test, y_train, y_test = train_test_split(bike_df_model_ready[features], \n",
    "                                                 bike_df_model_ready[['cnt']], \n",
    "                                                 test_size=0.3, random_state=42)\n",
    "from sklearn import linear_model\n",
    "model_lr = linear_model.LinearRegression()\n",
    "\n",
    "for feat in features:\n",
    "    model_lr = linear_model.LinearRegression()\n",
    "    # train the model on training set\n",
    "    model_lr.fit(X_train[[feat]], y_train)\n",
    "    predictions = model_lr.predict(X_test[[feat]])\n",
    "    \n",
    "    print('R^2 for %s is %f' % (feat, r2_score(y_test, predictions)))\n",
    "    \n"
   ]
  },
  {
   "cell_type": "code",
   "execution_count": 35,
   "metadata": {},
   "outputs": [
    {
     "name": "stdout",
     "output_type": "stream",
     "text": [
      "Root Mean squared error: 147.86\n",
      "\n",
      "\n",
      "Intercept: -119.061877\n"
     ]
    },
    {
     "data": {
      "text/html": [
       "<div>\n",
       "<style scoped>\n",
       "    .dataframe tbody tr th:only-of-type {\n",
       "        vertical-align: middle;\n",
       "    }\n",
       "\n",
       "    .dataframe tbody tr th {\n",
       "        vertical-align: top;\n",
       "    }\n",
       "\n",
       "    .dataframe thead th {\n",
       "        text-align: right;\n",
       "    }\n",
       "</style>\n",
       "<table border=\"1\" class=\"dataframe\">\n",
       "  <thead>\n",
       "    <tr style=\"text-align: right;\">\n",
       "      <th></th>\n",
       "      <th>coefficients</th>\n",
       "      <th>features</th>\n",
       "    </tr>\n",
       "  </thead>\n",
       "  <tbody>\n",
       "    <tr>\n",
       "      <th>5</th>\n",
       "      <td>-42.697445</td>\n",
       "      <td>season_3</td>\n",
       "    </tr>\n",
       "    <tr>\n",
       "      <th>1</th>\n",
       "      <td>-29.096613</td>\n",
       "      <td>holiday</td>\n",
       "    </tr>\n",
       "    <tr>\n",
       "      <th>4</th>\n",
       "      <td>-3.808865</td>\n",
       "      <td>season_2</td>\n",
       "    </tr>\n",
       "    <tr>\n",
       "      <th>3</th>\n",
       "      <td>3.523756</td>\n",
       "      <td>season_1</td>\n",
       "    </tr>\n",
       "    <tr>\n",
       "      <th>0</th>\n",
       "      <td>8.626766</td>\n",
       "      <td>hr</td>\n",
       "    </tr>\n",
       "    <tr>\n",
       "      <th>6</th>\n",
       "      <td>42.982554</td>\n",
       "      <td>season_4</td>\n",
       "    </tr>\n",
       "    <tr>\n",
       "      <th>2</th>\n",
       "      <td>425.523181</td>\n",
       "      <td>temp</td>\n",
       "    </tr>\n",
       "  </tbody>\n",
       "</table>\n",
       "</div>"
      ],
      "text/plain": [
       "   coefficients  features\n",
       "5    -42.697445  season_3\n",
       "1    -29.096613   holiday\n",
       "4     -3.808865  season_2\n",
       "3      3.523756  season_1\n",
       "0      8.626766        hr\n",
       "6     42.982554  season_4\n",
       "2    425.523181      temp"
      ]
     },
     "execution_count": 35,
     "metadata": {},
     "output_type": "execute_result"
    }
   ],
   "source": [
    "# train the model on training set\n",
    "model_lr.fit(X_train, y_train)\n",
    "\n",
    "# make predictions using the testing set\n",
    "predictions = model_lr.predict(X_test)\n",
    " \n",
    "# root mean squared error\n",
    "print(\"Root Mean squared error: %.2f\" % sqrt(mean_squared_error(y_test, predictions)))\n",
    "print('\\n')\n",
    "print('Intercept: %f' % model_lr.intercept_)\n",
    "\n",
    "# features with coefficients \n",
    "feature_coefficients  = pd.DataFrame({'coefficients':model_lr.coef_[0], \n",
    "                                    'features':X_train.columns.values})\n",
    "\n",
    "feature_coefficients.sort_values('coefficients')"
   ]
  },
  {
   "cell_type": "markdown",
   "metadata": {},
   "source": [
    "Tomamos los coeficientes de la regresion y ahi los evaluamos"
   ]
  },
  {
   "cell_type": "code",
   "execution_count": 36,
   "metadata": {},
   "outputs": [],
   "source": [
    "# set up constants for our coefficients \n",
    "INTERCEPT = -121.029547\n",
    "COEF_HOLIDAY = -23.426176   # day is holiday or not\n",
    "COEF_HOUR = 8.631624        # hour (0 to 23)\n",
    "COEF_SEASON_1 = 3.861149    # 1:springer\n",
    "COEF_SEASON_2 = -1.624812   # 2:summer\n",
    "COEF_SEASON_3 = -41.245562  # 3:fall\n",
    "COEF_SEASON_4 = 39.009224   # 4:winter\n",
    "COEF_TEMP = 426.900259      # norm temp in Celsius -8 to +39"
   ]
  },
  {
   "cell_type": "markdown",
   "metadata": {},
   "source": [
    "el promedio de las temperaturas de los datos, normalizado"
   ]
  },
  {
   "cell_type": "code",
   "execution_count": 37,
   "metadata": {},
   "outputs": [
    {
     "data": {
      "text/plain": [
       "0.49805836415947391"
      ]
     },
     "execution_count": 37,
     "metadata": {},
     "output_type": "execute_result"
    }
   ],
   "source": [
    "np.mean(X_train['temp'])"
   ]
  },
  {
   "cell_type": "code",
   "execution_count": 38,
   "metadata": {},
   "outputs": [
    {
     "name": "stdout",
     "output_type": "stream",
     "text": [
      "Estimated bike rental count for selected parameters: 171\n"
     ]
    }
   ],
   "source": [
    "# mean values\n",
    "MEAN_HOLIDAY = 0.0275   # day is holiday or not\n",
    "MEAN_HOUR = 11.6        # hour (0 to 23)\n",
    "MEAN_SEASON_1 = 1       # 1:spring\n",
    "MEAN_SEASON_2 = 0       # 2:summer\n",
    "MEAN_SEASON_3 = 0       # 3:fall\n",
    "MEAN_SEASON_4 = 0       # 4:winter\n",
    "MEAN_TEMP = 0.4967      # norm temp in Celsius -8 to +39\n",
    "\n",
    "\n",
    "# try predicting something - 9AM with all other features held constant\n",
    "rental_counts = INTERCEPT + (MEAN_HOLIDAY * COEF_HOLIDAY) \\\n",
    "    + (9 * COEF_HOUR) \\\n",
    "    + (MEAN_SEASON_1 * COEF_SEASON_1)  + (MEAN_SEASON_2 * COEF_SEASON_2) \\\n",
    "    + (MEAN_SEASON_3 * COEF_SEASON_3)  + (MEAN_SEASON_4 * COEF_SEASON_4) \\\n",
    "    + (MEAN_TEMP * COEF_TEMP)\n",
    "\n",
    "print('Estimated bike rental count for selected parameters: %i' % int(rental_counts))    "
   ]
  },
  {
   "cell_type": "code",
   "execution_count": null,
   "metadata": {},
   "outputs": [],
   "source": []
  }
 ],
 "metadata": {
  "kernelspec": {
   "display_name": "Python 3",
   "language": "python",
   "name": "python3"
  },
  "language_info": {
   "codemirror_mode": {
    "name": "ipython",
    "version": 3
   },
   "file_extension": ".py",
   "mimetype": "text/x-python",
   "name": "python",
   "nbconvert_exporter": "python",
   "pygments_lexer": "ipython3",
   "version": "3.5.2"
  }
 },
 "nbformat": 4,
 "nbformat_minor": 2
}
